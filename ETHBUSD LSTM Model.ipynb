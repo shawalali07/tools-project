{
 "cells": [
  {
   "cell_type": "markdown",
   "id": "6b64ce01-6e12-4b38-b43b-e565b68c08a4",
   "metadata": {},
   "source": [
    "# ETHBUSD Market Analysis + Prediction using LSTM"
   ]
  },
  {
   "cell_type": "markdown",
   "id": "c4f91be5-aa4e-458a-bb32-c0fae79b698f",
   "metadata": {},
   "source": [
    "Time Series data is a series of data points indexed in time order. Time series data is everywhere, so manipulating them is important for any data analyst or data scientist.\n",
    "\n",
    "In this notebook, we will discover and explore data from the stock market, particularly some technology stocks (Apple, Amazon, Google, and Microsoft). We will learn how to use yfinance to get stock information, and visualize different aspects of it using Seaborn and Matplotlib. we will look at a few ways of analyzing the risk of a stock, based on its previous performance history. We will also be predicting future stock prices through a Long Short Term Memory (LSTM) method!\n",
    "\n",
    "We'll be answering the following questions along the way:\n",
    "\n",
    "1) What was the change in price of the stock over time?\n",
    "2) What was the daily return of the stock on average?\n",
    "3) What was the moving average of the various stocks?\n",
    "4) What was the correlation between different stocks'?\n",
    "5) How much value do we put at risk by investing in a particular stock?\n",
    "6) How can we attempt to predict future stock behavior? (Predicting the closing price stock price of APPLE inc using LSTM)"
   ]
  },
  {
   "cell_type": "markdown",
   "id": "abfcef9c-7be1-464e-beb3-8861dc7f4e64",
   "metadata": {},
   "source": [
    "## 1) Data Preparation and Visualization"
   ]
  },
  {
   "cell_type": "code",
   "execution_count": 67,
   "id": "91132a5a",
   "metadata": {},
   "outputs": [],
   "source": [
    "import numpy as np\n",
    "import matplotlib.pyplot as plt\n",
    "import pandas as pd\n",
    "import pandas_ta as ta"
   ]
  },
  {
   "cell_type": "code",
   "execution_count": 68,
   "id": "0f26b225-0f50-4e7e-a9fc-2c4c1ad84956",
   "metadata": {},
   "outputs": [],
   "source": [
    "df = pd.read_csv('ETHBUSD.csv')"
   ]
  },
  {
   "cell_type": "code",
   "execution_count": 69,
   "id": "7178ae44-9445-4d8f-a113-5540c01e8332",
   "metadata": {},
   "outputs": [],
   "source": [
    "df.drop([\"index\"], inplace=True, axis=1)"
   ]
  },
  {
   "cell_type": "code",
   "execution_count": 70,
   "id": "099d4d24-b877-4b68-8e9b-487f99e5f0ce",
   "metadata": {},
   "outputs": [
    {
     "data": {
      "text/html": [
       "<div>\n",
       "<style scoped>\n",
       "    .dataframe tbody tr th:only-of-type {\n",
       "        vertical-align: middle;\n",
       "    }\n",
       "\n",
       "    .dataframe tbody tr th {\n",
       "        vertical-align: top;\n",
       "    }\n",
       "\n",
       "    .dataframe thead th {\n",
       "        text-align: right;\n",
       "    }\n",
       "</style>\n",
       "<table border=\"1\" class=\"dataframe\">\n",
       "  <thead>\n",
       "    <tr style=\"text-align: right;\">\n",
       "      <th></th>\n",
       "      <th>Open time</th>\n",
       "      <th>Open</th>\n",
       "      <th>High</th>\n",
       "      <th>Low</th>\n",
       "      <th>Close</th>\n",
       "      <th>Volume</th>\n",
       "    </tr>\n",
       "  </thead>\n",
       "  <tbody>\n",
       "    <tr>\n",
       "      <th>0</th>\n",
       "      <td>2019-12-31 19:00:00</td>\n",
       "      <td>128.61</td>\n",
       "      <td>128.61</td>\n",
       "      <td>128.47</td>\n",
       "      <td>128.47</td>\n",
       "      <td>8.14441</td>\n",
       "    </tr>\n",
       "    <tr>\n",
       "      <th>1</th>\n",
       "      <td>2019-12-31 19:03:00</td>\n",
       "      <td>128.47</td>\n",
       "      <td>128.47</td>\n",
       "      <td>128.47</td>\n",
       "      <td>128.47</td>\n",
       "      <td>0.00000</td>\n",
       "    </tr>\n",
       "    <tr>\n",
       "      <th>2</th>\n",
       "      <td>2019-12-31 19:06:00</td>\n",
       "      <td>128.47</td>\n",
       "      <td>128.47</td>\n",
       "      <td>128.47</td>\n",
       "      <td>128.47</td>\n",
       "      <td>0.00000</td>\n",
       "    </tr>\n",
       "    <tr>\n",
       "      <th>3</th>\n",
       "      <td>2019-12-31 19:09:00</td>\n",
       "      <td>128.47</td>\n",
       "      <td>128.47</td>\n",
       "      <td>128.47</td>\n",
       "      <td>128.47</td>\n",
       "      <td>0.00000</td>\n",
       "    </tr>\n",
       "    <tr>\n",
       "      <th>4</th>\n",
       "      <td>2019-12-31 19:12:00</td>\n",
       "      <td>128.21</td>\n",
       "      <td>128.21</td>\n",
       "      <td>128.21</td>\n",
       "      <td>128.21</td>\n",
       "      <td>0.09151</td>\n",
       "    </tr>\n",
       "  </tbody>\n",
       "</table>\n",
       "</div>"
      ],
      "text/plain": [
       "             Open time    Open    High     Low   Close   Volume\n",
       "0  2019-12-31 19:00:00  128.61  128.61  128.47  128.47  8.14441\n",
       "1  2019-12-31 19:03:00  128.47  128.47  128.47  128.47  0.00000\n",
       "2  2019-12-31 19:06:00  128.47  128.47  128.47  128.47  0.00000\n",
       "3  2019-12-31 19:09:00  128.47  128.47  128.47  128.47  0.00000\n",
       "4  2019-12-31 19:12:00  128.21  128.21  128.21  128.21  0.09151"
      ]
     },
     "execution_count": 70,
     "metadata": {},
     "output_type": "execute_result"
    }
   ],
   "source": [
    "df.head()"
   ]
  },
  {
   "cell_type": "code",
   "execution_count": 71,
   "id": "3cdb88f6-95fe-4b29-8c9e-3863193a70dc",
   "metadata": {},
   "outputs": [
    {
     "data": {
      "text/html": [
       "<div>\n",
       "<style scoped>\n",
       "    .dataframe tbody tr th:only-of-type {\n",
       "        vertical-align: middle;\n",
       "    }\n",
       "\n",
       "    .dataframe tbody tr th {\n",
       "        vertical-align: top;\n",
       "    }\n",
       "\n",
       "    .dataframe thead th {\n",
       "        text-align: right;\n",
       "    }\n",
       "</style>\n",
       "<table border=\"1\" class=\"dataframe\">\n",
       "  <thead>\n",
       "    <tr style=\"text-align: right;\">\n",
       "      <th></th>\n",
       "      <th>Open time</th>\n",
       "      <th>Open</th>\n",
       "      <th>High</th>\n",
       "      <th>Low</th>\n",
       "      <th>Close</th>\n",
       "      <th>Volume</th>\n",
       "    </tr>\n",
       "  </thead>\n",
       "  <tbody>\n",
       "    <tr>\n",
       "      <th>610019</th>\n",
       "      <td>2023-06-26 06:57:00</td>\n",
       "      <td>1891.63</td>\n",
       "      <td>1898.50</td>\n",
       "      <td>1891.63</td>\n",
       "      <td>1896.43</td>\n",
       "      <td>506.3571</td>\n",
       "    </tr>\n",
       "    <tr>\n",
       "      <th>610020</th>\n",
       "      <td>2023-06-26 07:00:00</td>\n",
       "      <td>1896.43</td>\n",
       "      <td>1900.75</td>\n",
       "      <td>1896.43</td>\n",
       "      <td>1900.75</td>\n",
       "      <td>254.4964</td>\n",
       "    </tr>\n",
       "    <tr>\n",
       "      <th>610021</th>\n",
       "      <td>2023-06-26 07:03:00</td>\n",
       "      <td>1900.76</td>\n",
       "      <td>1901.01</td>\n",
       "      <td>1898.40</td>\n",
       "      <td>1898.60</td>\n",
       "      <td>372.6204</td>\n",
       "    </tr>\n",
       "    <tr>\n",
       "      <th>610022</th>\n",
       "      <td>2023-06-26 07:06:00</td>\n",
       "      <td>1898.53</td>\n",
       "      <td>1900.00</td>\n",
       "      <td>1897.17</td>\n",
       "      <td>1898.17</td>\n",
       "      <td>454.9128</td>\n",
       "    </tr>\n",
       "    <tr>\n",
       "      <th>610023</th>\n",
       "      <td>2023-06-26 07:09:00</td>\n",
       "      <td>1898.15</td>\n",
       "      <td>1898.21</td>\n",
       "      <td>1897.17</td>\n",
       "      <td>1897.73</td>\n",
       "      <td>62.6862</td>\n",
       "    </tr>\n",
       "  </tbody>\n",
       "</table>\n",
       "</div>"
      ],
      "text/plain": [
       "                  Open time     Open     High      Low    Close    Volume\n",
       "610019  2023-06-26 06:57:00  1891.63  1898.50  1891.63  1896.43  506.3571\n",
       "610020  2023-06-26 07:00:00  1896.43  1900.75  1896.43  1900.75  254.4964\n",
       "610021  2023-06-26 07:03:00  1900.76  1901.01  1898.40  1898.60  372.6204\n",
       "610022  2023-06-26 07:06:00  1898.53  1900.00  1897.17  1898.17  454.9128\n",
       "610023  2023-06-26 07:09:00  1898.15  1898.21  1897.17  1897.73   62.6862"
      ]
     },
     "execution_count": 71,
     "metadata": {},
     "output_type": "execute_result"
    }
   ],
   "source": [
    "df.tail()"
   ]
  },
  {
   "cell_type": "code",
   "execution_count": 72,
   "id": "c2ec3fd5-1fdc-450d-a222-dd6d3a6f8031",
   "metadata": {},
   "outputs": [
    {
     "data": {
      "text/html": [
       "<div>\n",
       "<style scoped>\n",
       "    .dataframe tbody tr th:only-of-type {\n",
       "        vertical-align: middle;\n",
       "    }\n",
       "\n",
       "    .dataframe tbody tr th {\n",
       "        vertical-align: top;\n",
       "    }\n",
       "\n",
       "    .dataframe thead th {\n",
       "        text-align: right;\n",
       "    }\n",
       "</style>\n",
       "<table border=\"1\" class=\"dataframe\">\n",
       "  <thead>\n",
       "    <tr style=\"text-align: right;\">\n",
       "      <th></th>\n",
       "      <th>Open</th>\n",
       "      <th>High</th>\n",
       "      <th>Low</th>\n",
       "      <th>Close</th>\n",
       "      <th>Volume</th>\n",
       "    </tr>\n",
       "  </thead>\n",
       "  <tbody>\n",
       "    <tr>\n",
       "      <th>count</th>\n",
       "      <td>610024.000000</td>\n",
       "      <td>610024.000000</td>\n",
       "      <td>610024.000000</td>\n",
       "      <td>610024.000000</td>\n",
       "      <td>610024.000000</td>\n",
       "    </tr>\n",
       "    <tr>\n",
       "      <th>mean</th>\n",
       "      <td>1692.494823</td>\n",
       "      <td>1694.646711</td>\n",
       "      <td>1690.330014</td>\n",
       "      <td>1692.495122</td>\n",
       "      <td>509.347036</td>\n",
       "    </tr>\n",
       "    <tr>\n",
       "      <th>std</th>\n",
       "      <td>1182.830758</td>\n",
       "      <td>1184.336049</td>\n",
       "      <td>1181.307903</td>\n",
       "      <td>1182.827343</td>\n",
       "      <td>914.374794</td>\n",
       "    </tr>\n",
       "    <tr>\n",
       "      <th>min</th>\n",
       "      <td>88.930000</td>\n",
       "      <td>90.480000</td>\n",
       "      <td>85.670000</td>\n",
       "      <td>88.120000</td>\n",
       "      <td>0.000000</td>\n",
       "    </tr>\n",
       "    <tr>\n",
       "      <th>25%</th>\n",
       "      <td>463.477500</td>\n",
       "      <td>463.940000</td>\n",
       "      <td>462.957500</td>\n",
       "      <td>463.470000</td>\n",
       "      <td>84.675250</td>\n",
       "    </tr>\n",
       "    <tr>\n",
       "      <th>50%</th>\n",
       "      <td>1631.060000</td>\n",
       "      <td>1632.860000</td>\n",
       "      <td>1629.330000</td>\n",
       "      <td>1631.060000</td>\n",
       "      <td>246.317465</td>\n",
       "    </tr>\n",
       "    <tr>\n",
       "      <th>75%</th>\n",
       "      <td>2477.512500</td>\n",
       "      <td>2482.722500</td>\n",
       "      <td>2472.590000</td>\n",
       "      <td>2477.580000</td>\n",
       "      <td>570.745215</td>\n",
       "    </tr>\n",
       "    <tr>\n",
       "      <th>max</th>\n",
       "      <td>4862.200000</td>\n",
       "      <td>4867.360000</td>\n",
       "      <td>4854.740000</td>\n",
       "      <td>4861.170000</td>\n",
       "      <td>42558.838800</td>\n",
       "    </tr>\n",
       "  </tbody>\n",
       "</table>\n",
       "</div>"
      ],
      "text/plain": [
       "                Open           High            Low          Close  \\\n",
       "count  610024.000000  610024.000000  610024.000000  610024.000000   \n",
       "mean     1692.494823    1694.646711    1690.330014    1692.495122   \n",
       "std      1182.830758    1184.336049    1181.307903    1182.827343   \n",
       "min        88.930000      90.480000      85.670000      88.120000   \n",
       "25%       463.477500     463.940000     462.957500     463.470000   \n",
       "50%      1631.060000    1632.860000    1629.330000    1631.060000   \n",
       "75%      2477.512500    2482.722500    2472.590000    2477.580000   \n",
       "max      4862.200000    4867.360000    4854.740000    4861.170000   \n",
       "\n",
       "              Volume  \n",
       "count  610024.000000  \n",
       "mean      509.347036  \n",
       "std       914.374794  \n",
       "min         0.000000  \n",
       "25%        84.675250  \n",
       "50%       246.317465  \n",
       "75%       570.745215  \n",
       "max     42558.838800  "
      ]
     },
     "execution_count": 72,
     "metadata": {},
     "output_type": "execute_result"
    }
   ],
   "source": [
    "df.describe()"
   ]
  },
  {
   "cell_type": "code",
   "execution_count": 73,
   "id": "0b8d96e9-bdce-412c-b1fc-c8e679a92708",
   "metadata": {},
   "outputs": [
    {
     "name": "stdout",
     "output_type": "stream",
     "text": [
      "<class 'pandas.core.frame.DataFrame'>\n",
      "RangeIndex: 610024 entries, 0 to 610023\n",
      "Data columns (total 6 columns):\n",
      " #   Column     Non-Null Count   Dtype  \n",
      "---  ------     --------------   -----  \n",
      " 0   Open time  610024 non-null  object \n",
      " 1   Open       610024 non-null  float64\n",
      " 2   High       610024 non-null  float64\n",
      " 3   Low        610024 non-null  float64\n",
      " 4   Close      610024 non-null  float64\n",
      " 5   Volume     610024 non-null  float64\n",
      "dtypes: float64(5), object(1)\n",
      "memory usage: 27.9+ MB\n"
     ]
    }
   ],
   "source": [
    "df.info()"
   ]
  },
  {
   "cell_type": "code",
   "execution_count": 74,
   "id": "7a225ece-e3d2-47fd-adfd-9d0aa5758ed3",
   "metadata": {},
   "outputs": [
    {
     "data": {
      "image/png": "[encoded data removed]",
      "text/plain": [
       "<Figure size 1000x700 with 1 Axes>"
      ]
     },
     "metadata": {},
     "output_type": "display_data"
    }
   ],
   "source": [
    "# Let's see a historical view of the closing price\n",
    "plt.figure(figsize=(10, 7))\n",
    "df[\"Close\"].plot()\n",
    "plt.ylabel('Close Price')\n",
    "plt.xlabel(None)\n",
    "plt.title(f\"Closing Price of ETHBUSD\")\n",
    "    \n",
    "plt.tight_layout()"
   ]
  },
  {
   "cell_type": "code",
   "execution_count": 75,
   "id": "bca4bd49-6957-4dd9-9859-61dbf6ddac1c",
   "metadata": {},
   "outputs": [
    {
     "data": {
      "image/png": "[encoded data removed]",
      "text/plain": [
       "<Figure size 1000x700 with 1 Axes>"
      ]
     },
     "metadata": {},
     "output_type": "display_data"
    }
   ],
   "source": [
    "# Let's see a historical view of the closing price\n",
    "plt.figure(figsize=(10, 7))\n",
    "df[\"Volume\"].plot()\n",
    "plt.ylabel('Volume')\n",
    "plt.xlabel(None)\n",
    "plt.title(f\"Sales Volume of ETHBUSD\")\n",
    "    \n",
    "plt.tight_layout()"
   ]
  },
  {
   "cell_type": "markdown",
   "id": "aea07cfe-684c-4823-b220-8a30bb569429",
   "metadata": {},
   "source": [
    "## 2) Technical Indicators"
   ]
  },
  {
   "cell_type": "code",
   "execution_count": 76,
   "id": "bdd0d1ea-e63c-45dc-b01c-bc872da98b62",
   "metadata": {},
   "outputs": [],
   "source": [
    "df = df[-10000:]\n",
    "df.reset_index(inplace=True)"
   ]
  },
  {
   "cell_type": "code",
   "execution_count": 77,
   "id": "2ac289e2-5139-4c0e-adf9-de91de9175b9",
   "metadata": {},
   "outputs": [
    {
     "data": {
      "text/html": [
       "<div>\n",
       "<style scoped>\n",
       "    .dataframe tbody tr th:only-of-type {\n",
       "        vertical-align: middle;\n",
       "    }\n",
       "\n",
       "    .dataframe tbody tr th {\n",
       "        vertical-align: top;\n",
       "    }\n",
       "\n",
       "    .dataframe thead th {\n",
       "        text-align: right;\n",
       "    }\n",
       "</style>\n",
       "<table border=\"1\" class=\"dataframe\">\n",
       "  <thead>\n",
       "    <tr style=\"text-align: right;\">\n",
       "      <th></th>\n",
       "      <th>index</th>\n",
       "      <th>Open time</th>\n",
       "      <th>Open</th>\n",
       "      <th>High</th>\n",
       "      <th>Low</th>\n",
       "      <th>Close</th>\n",
       "      <th>Volume</th>\n",
       "    </tr>\n",
       "  </thead>\n",
       "  <tbody>\n",
       "    <tr>\n",
       "      <th>0</th>\n",
       "      <td>600024</td>\n",
       "      <td>2023-06-05 11:12:00</td>\n",
       "      <td>1867.14</td>\n",
       "      <td>1867.42</td>\n",
       "      <td>1867.06</td>\n",
       "      <td>1867.42</td>\n",
       "      <td>15.4350</td>\n",
       "    </tr>\n",
       "    <tr>\n",
       "      <th>1</th>\n",
       "      <td>600025</td>\n",
       "      <td>2023-06-05 11:15:00</td>\n",
       "      <td>1867.42</td>\n",
       "      <td>1867.42</td>\n",
       "      <td>1866.03</td>\n",
       "      <td>1867.34</td>\n",
       "      <td>59.7746</td>\n",
       "    </tr>\n",
       "    <tr>\n",
       "      <th>2</th>\n",
       "      <td>600026</td>\n",
       "      <td>2023-06-05 11:18:00</td>\n",
       "      <td>1867.34</td>\n",
       "      <td>1867.78</td>\n",
       "      <td>1866.76</td>\n",
       "      <td>1867.78</td>\n",
       "      <td>34.9325</td>\n",
       "    </tr>\n",
       "    <tr>\n",
       "      <th>3</th>\n",
       "      <td>600027</td>\n",
       "      <td>2023-06-05 11:21:00</td>\n",
       "      <td>1867.78</td>\n",
       "      <td>1868.36</td>\n",
       "      <td>1867.62</td>\n",
       "      <td>1868.36</td>\n",
       "      <td>29.3403</td>\n",
       "    </tr>\n",
       "    <tr>\n",
       "      <th>4</th>\n",
       "      <td>600028</td>\n",
       "      <td>2023-06-05 11:24:00</td>\n",
       "      <td>1868.36</td>\n",
       "      <td>1868.77</td>\n",
       "      <td>1867.86</td>\n",
       "      <td>1868.57</td>\n",
       "      <td>29.6583</td>\n",
       "    </tr>\n",
       "    <tr>\n",
       "      <th>...</th>\n",
       "      <td>...</td>\n",
       "      <td>...</td>\n",
       "      <td>...</td>\n",
       "      <td>...</td>\n",
       "      <td>...</td>\n",
       "      <td>...</td>\n",
       "      <td>...</td>\n",
       "    </tr>\n",
       "    <tr>\n",
       "      <th>9995</th>\n",
       "      <td>610019</td>\n",
       "      <td>2023-06-26 06:57:00</td>\n",
       "      <td>1891.63</td>\n",
       "      <td>1898.50</td>\n",
       "      <td>1891.63</td>\n",
       "      <td>1896.43</td>\n",
       "      <td>506.3571</td>\n",
       "    </tr>\n",
       "    <tr>\n",
       "      <th>9996</th>\n",
       "      <td>610020</td>\n",
       "      <td>2023-06-26 07:00:00</td>\n",
       "      <td>1896.43</td>\n",
       "      <td>1900.75</td>\n",
       "      <td>1896.43</td>\n",
       "      <td>1900.75</td>\n",
       "      <td>254.4964</td>\n",
       "    </tr>\n",
       "    <tr>\n",
       "      <th>9997</th>\n",
       "      <td>610021</td>\n",
       "      <td>2023-06-26 07:03:00</td>\n",
       "      <td>1900.76</td>\n",
       "      <td>1901.01</td>\n",
       "      <td>1898.40</td>\n",
       "      <td>1898.60</td>\n",
       "      <td>372.6204</td>\n",
       "    </tr>\n",
       "    <tr>\n",
       "      <th>9998</th>\n",
       "      <td>610022</td>\n",
       "      <td>2023-06-26 07:06:00</td>\n",
       "      <td>1898.53</td>\n",
       "      <td>1900.00</td>\n",
       "      <td>1897.17</td>\n",
       "      <td>1898.17</td>\n",
       "      <td>454.9128</td>\n",
       "    </tr>\n",
       "    <tr>\n",
       "      <th>9999</th>\n",
       "      <td>610023</td>\n",
       "      <td>2023-06-26 07:09:00</td>\n",
       "      <td>1898.15</td>\n",
       "      <td>1898.21</td>\n",
       "      <td>1897.17</td>\n",
       "      <td>1897.73</td>\n",
       "      <td>62.6862</td>\n",
       "    </tr>\n",
       "  </tbody>\n",
       "</table>\n",
       "<p>10000 rows × 7 columns</p>\n",
       "</div>"
      ],
      "text/plain": [
       "       index            Open time     Open     High      Low    Close  \\\n",
       "0     600024  2023-06-05 11:12:00  1867.14  1867.42  1867.06  1867.42   \n",
       "1     600025  2023-06-05 11:15:00  1867.42  1867.42  1866.03  1867.34   \n",
       "2     600026  2023-06-05 11:18:00  1867.34  1867.78  1866.76  1867.78   \n",
       "3     600027  2023-06-05 11:21:00  1867.78  1868.36  1867.62  1868.36   \n",
       "4     600028  2023-06-05 11:24:00  1868.36  1868.77  1867.86  1868.57   \n",
       "...      ...                  ...      ...      ...      ...      ...   \n",
       "9995  610019  2023-06-26 06:57:00  1891.63  1898.50  1891.63  1896.43   \n",
       "9996  610020  2023-06-26 07:00:00  1896.43  1900.75  1896.43  1900.75   \n",
       "9997  610021  2023-06-26 07:03:00  1900.76  1901.01  1898.40  1898.60   \n",
       "9998  610022  2023-06-26 07:06:00  1898.53  1900.00  1897.17  1898.17   \n",
       "9999  610023  2023-06-26 07:09:00  1898.15  1898.21  1897.17  1897.73   \n",
       "\n",
       "        Volume  \n",
       "0      15.4350  \n",
       "1      59.7746  \n",
       "2      34.9325  \n",
       "3      29.3403  \n",
       "4      29.6583  \n",
       "...        ...  \n",
       "9995  506.3571  \n",
       "9996  254.4964  \n",
       "9997  372.6204  \n",
       "9998  454.9128  \n",
       "9999   62.6862  \n",
       "\n",
       "[10000 rows x 7 columns]"
      ]
     },
     "execution_count": 77,
     "metadata": {},
     "output_type": "execute_result"
    }
   ],
   "source": [
    "df"
   ]
  },
  {
   "cell_type": "code",
   "execution_count": 78,
   "id": "4fb5170d-35ba-4a43-846f-8498a00feb6d",
   "metadata": {},
   "outputs": [],
   "source": [
    "df.drop([\"index\"], inplace=True, axis=1)"
   ]
  },
  {
   "cell_type": "code",
   "execution_count": 79,
   "id": "33c4ea76",
   "metadata": {},
   "outputs": [],
   "source": [
    "# Adding Indicators\n",
    "\n",
    "df['RSI'] = ta.rsi(df['Close'], length=15)\n",
    "df['EMAF'] = ta.ema(df['Close'], length=20)\n",
    "df['EMAM'] = ta.ema(df['Close'], length=100)\n",
    "df['EMAS'] = ta.ema(df['Close'], length=150)\n",
    "\n",
    "df['Target'] = df['Close'] - df.Open\n",
    "df['Target'] = df['Target'].shift(-1)\n",
    "\n",
    "df['TargetClass'] = [1 if df.Target[i] > 0 else 0 for i in range(len(df))]\n",
    "\n",
    "df['TargetNextClose'] = df['Close'].shift(-1)\n",
    "\n",
    "df.dropna(inplace=True)\n",
    "df.reset_index(inplace=True)\n",
    "df.drop(['Volume', 'Open time'], axis=1, inplace=True)"
   ]
  },
  {
   "cell_type": "code",
   "execution_count": 80,
   "id": "672be9e7",
   "metadata": {},
   "outputs": [
    {
     "data": {
      "text/html": [
       "<div>\n",
       "<style scoped>\n",
       "    .dataframe tbody tr th:only-of-type {\n",
       "        vertical-align: middle;\n",
       "    }\n",
       "\n",
       "    .dataframe tbody tr th {\n",
       "        vertical-align: top;\n",
       "    }\n",
       "\n",
       "    .dataframe thead th {\n",
       "        text-align: right;\n",
       "    }\n",
       "</style>\n",
       "<table border=\"1\" class=\"dataframe\">\n",
       "  <thead>\n",
       "    <tr style=\"text-align: right;\">\n",
       "      <th></th>\n",
       "      <th>index</th>\n",
       "      <th>Open</th>\n",
       "      <th>High</th>\n",
       "      <th>Low</th>\n",
       "      <th>Close</th>\n",
       "      <th>RSI</th>\n",
       "      <th>EMAF</th>\n",
       "      <th>EMAM</th>\n",
       "      <th>EMAS</th>\n",
       "      <th>Target</th>\n",
       "      <th>TargetClass</th>\n",
       "      <th>TargetNextClose</th>\n",
       "    </tr>\n",
       "  </thead>\n",
       "  <tbody>\n",
       "    <tr>\n",
       "      <th>200</th>\n",
       "      <td>349</td>\n",
       "      <td>1814.80</td>\n",
       "      <td>1814.90</td>\n",
       "      <td>1814.79</td>\n",
       "      <td>1814.89</td>\n",
       "      <td>59.318925</td>\n",
       "      <td>1814.013240</td>\n",
       "      <td>1812.362438</td>\n",
       "      <td>1813.772805</td>\n",
       "      <td>0.23</td>\n",
       "      <td>1</td>\n",
       "      <td>1815.13</td>\n",
       "    </tr>\n",
       "    <tr>\n",
       "      <th>201</th>\n",
       "      <td>350</td>\n",
       "      <td>1814.90</td>\n",
       "      <td>1815.13</td>\n",
       "      <td>1814.65</td>\n",
       "      <td>1815.13</td>\n",
       "      <td>60.800762</td>\n",
       "      <td>1814.119598</td>\n",
       "      <td>1812.417241</td>\n",
       "      <td>1813.790781</td>\n",
       "      <td>0.53</td>\n",
       "      <td>1</td>\n",
       "      <td>1815.66</td>\n",
       "    </tr>\n",
       "    <tr>\n",
       "      <th>202</th>\n",
       "      <td>351</td>\n",
       "      <td>1815.13</td>\n",
       "      <td>1815.67</td>\n",
       "      <td>1815.12</td>\n",
       "      <td>1815.66</td>\n",
       "      <td>63.911113</td>\n",
       "      <td>1814.266303</td>\n",
       "      <td>1812.481454</td>\n",
       "      <td>1813.815539</td>\n",
       "      <td>0.14</td>\n",
       "      <td>1</td>\n",
       "      <td>1815.80</td>\n",
       "    </tr>\n",
       "    <tr>\n",
       "      <th>203</th>\n",
       "      <td>352</td>\n",
       "      <td>1815.66</td>\n",
       "      <td>1816.33</td>\n",
       "      <td>1815.58</td>\n",
       "      <td>1815.80</td>\n",
       "      <td>64.703752</td>\n",
       "      <td>1814.412370</td>\n",
       "      <td>1812.547168</td>\n",
       "      <td>1813.841823</td>\n",
       "      <td>2.45</td>\n",
       "      <td>1</td>\n",
       "      <td>1818.25</td>\n",
       "    </tr>\n",
       "    <tr>\n",
       "      <th>204</th>\n",
       "      <td>353</td>\n",
       "      <td>1815.80</td>\n",
       "      <td>1818.80</td>\n",
       "      <td>1815.59</td>\n",
       "      <td>1818.25</td>\n",
       "      <td>74.999403</td>\n",
       "      <td>1814.777858</td>\n",
       "      <td>1812.660095</td>\n",
       "      <td>1813.900209</td>\n",
       "      <td>1.04</td>\n",
       "      <td>1</td>\n",
       "      <td>1819.29</td>\n",
       "    </tr>\n",
       "  </tbody>\n",
       "</table>\n",
       "</div>"
      ],
      "text/plain": [
       "     index     Open     High      Low    Close        RSI         EMAF  \\\n",
       "200    349  1814.80  1814.90  1814.79  1814.89  59.318925  1814.013240   \n",
       "201    350  1814.90  1815.13  1814.65  1815.13  60.800762  1814.119598   \n",
       "202    351  1815.13  1815.67  1815.12  1815.66  63.911113  1814.266303   \n",
       "203    352  1815.66  1816.33  1815.58  1815.80  64.703752  1814.412370   \n",
       "204    353  1815.80  1818.80  1815.59  1818.25  74.999403  1814.777858   \n",
       "\n",
       "            EMAM         EMAS  Target  TargetClass  TargetNextClose  \n",
       "200  1812.362438  1813.772805    0.23            1          1815.13  \n",
       "201  1812.417241  1813.790781    0.53            1          1815.66  \n",
       "202  1812.481454  1813.815539    0.14            1          1815.80  \n",
       "203  1812.547168  1813.841823    2.45            1          1818.25  \n",
       "204  1812.660095  1813.900209    1.04            1          1819.29  "
      ]
     },
     "execution_count": 80,
     "metadata": {},
     "output_type": "execute_result"
    }
   ],
   "source": [
    "data_set = df[200:]\n",
    "pd.set_option('display.max_columns', None)\n",
    "\n",
    "data_set.head(5)"
   ]
  },
  {
   "cell_type": "code",
   "execution_count": 81,
   "id": "967ebb4d-62f1-4af3-a920-07add37c1f2b",
   "metadata": {},
   "outputs": [
    {
     "name": "stderr",
     "output_type": "stream",
     "text": [
      "/tmp/ipykernel_26689/3292710087.py:1: SettingWithCopyWarning: \n",
      "A value is trying to be set on a copy of a slice from a DataFrame\n",
      "\n",
      "See the caveats in the documentation: https://pandas.pydata.org/pandas-docs/stable/user_guide/indexing.html#returning-a-view-versus-a-copy\n",
      "  data_set.drop([\"index\"], axis=1, inplace=True)\n"
     ]
    }
   ],
   "source": [
    "data_set.drop([\"index\"], axis=1, inplace=True)"
   ]
  },
  {
   "cell_type": "code",
   "execution_count": 124,
   "id": "49ced594-ed8f-48ea-b610-9bbcd3d3c8c5",
   "metadata": {},
   "outputs": [
    {
     "data": {
      "text/plain": [
       "array([1815.13, 1815.66, 1815.8 , 1818.25, 1819.29, 1819.62, 1819.93,\n",
       "       1819.77, 1819.03, 1818.26])"
      ]
     },
     "execution_count": 124,
     "metadata": {},
     "output_type": "execute_result"
    }
   ],
   "source": [
    "np.array(data_set[\"TargetNextClose\"])[:10]"
   ]
  },
  {
   "cell_type": "code",
   "execution_count": 199,
   "id": "f8de0641-b53f-4b3b-b40b-a3816304290a",
   "metadata": {},
   "outputs": [
    {
     "data": {
      "text/html": [
       "<div>\n",
       "<style scoped>\n",
       "    .dataframe tbody tr th:only-of-type {\n",
       "        vertical-align: middle;\n",
       "    }\n",
       "\n",
       "    .dataframe tbody tr th {\n",
       "        vertical-align: top;\n",
       "    }\n",
       "\n",
       "    .dataframe thead th {\n",
       "        text-align: right;\n",
       "    }\n",
       "</style>\n",
       "<table border=\"1\" class=\"dataframe\">\n",
       "  <thead>\n",
       "    <tr style=\"text-align: right;\">\n",
       "      <th></th>\n",
       "      <th>Open</th>\n",
       "      <th>High</th>\n",
       "      <th>Low</th>\n",
       "      <th>Close</th>\n",
       "      <th>RSI</th>\n",
       "      <th>EMAF</th>\n",
       "      <th>EMAM</th>\n",
       "      <th>EMAS</th>\n",
       "      <th>Target</th>\n",
       "      <th>TargetClass</th>\n",
       "      <th>TargetNextClose</th>\n",
       "    </tr>\n",
       "  </thead>\n",
       "  <tbody>\n",
       "    <tr>\n",
       "      <th>9845</th>\n",
       "      <td>1892.70</td>\n",
       "      <td>1893.55</td>\n",
       "      <td>1891.48</td>\n",
       "      <td>1891.63</td>\n",
       "      <td>78.398696</td>\n",
       "      <td>1883.985410</td>\n",
       "      <td>1881.307731</td>\n",
       "      <td>1883.033188</td>\n",
       "      <td>4.80</td>\n",
       "      <td>1</td>\n",
       "      <td>1896.43</td>\n",
       "    </tr>\n",
       "    <tr>\n",
       "      <th>9846</th>\n",
       "      <td>1891.63</td>\n",
       "      <td>1898.50</td>\n",
       "      <td>1891.63</td>\n",
       "      <td>1896.43</td>\n",
       "      <td>83.386865</td>\n",
       "      <td>1885.170609</td>\n",
       "      <td>1881.607181</td>\n",
       "      <td>1883.210629</td>\n",
       "      <td>4.32</td>\n",
       "      <td>1</td>\n",
       "      <td>1900.75</td>\n",
       "    </tr>\n",
       "    <tr>\n",
       "      <th>9847</th>\n",
       "      <td>1896.43</td>\n",
       "      <td>1900.75</td>\n",
       "      <td>1896.43</td>\n",
       "      <td>1900.75</td>\n",
       "      <td>86.412443</td>\n",
       "      <td>1886.654361</td>\n",
       "      <td>1881.986247</td>\n",
       "      <td>1883.442939</td>\n",
       "      <td>-2.16</td>\n",
       "      <td>0</td>\n",
       "      <td>1898.60</td>\n",
       "    </tr>\n",
       "    <tr>\n",
       "      <th>9848</th>\n",
       "      <td>1900.76</td>\n",
       "      <td>1901.01</td>\n",
       "      <td>1898.40</td>\n",
       "      <td>1898.60</td>\n",
       "      <td>78.763528</td>\n",
       "      <td>1887.792041</td>\n",
       "      <td>1882.315232</td>\n",
       "      <td>1883.643695</td>\n",
       "      <td>-0.36</td>\n",
       "      <td>0</td>\n",
       "      <td>1898.17</td>\n",
       "    </tr>\n",
       "    <tr>\n",
       "      <th>9849</th>\n",
       "      <td>1898.53</td>\n",
       "      <td>1900.00</td>\n",
       "      <td>1897.17</td>\n",
       "      <td>1898.17</td>\n",
       "      <td>77.297368</td>\n",
       "      <td>1888.780418</td>\n",
       "      <td>1882.629188</td>\n",
       "      <td>1883.836096</td>\n",
       "      <td>-0.42</td>\n",
       "      <td>0</td>\n",
       "      <td>1897.73</td>\n",
       "    </tr>\n",
       "  </tbody>\n",
       "</table>\n",
       "</div>"
      ],
      "text/plain": [
       "         Open     High      Low    Close        RSI         EMAF         EMAM  \\\n",
       "9845  1892.70  1893.55  1891.48  1891.63  78.398696  1883.985410  1881.307731   \n",
       "9846  1891.63  1898.50  1891.63  1896.43  83.386865  1885.170609  1881.607181   \n",
       "9847  1896.43  1900.75  1896.43  1900.75  86.412443  1886.654361  1881.986247   \n",
       "9848  1900.76  1901.01  1898.40  1898.60  78.763528  1887.792041  1882.315232   \n",
       "9849  1898.53  1900.00  1897.17  1898.17  77.297368  1888.780418  1882.629188   \n",
       "\n",
       "             EMAS  Target  TargetClass  TargetNextClose  \n",
       "9845  1883.033188    4.80            1          1896.43  \n",
       "9846  1883.210629    4.32            1          1900.75  \n",
       "9847  1883.442939   -2.16            0          1898.60  \n",
       "9848  1883.643695   -0.36            0          1898.17  \n",
       "9849  1883.836096   -0.42            0          1897.73  "
      ]
     },
     "execution_count": 199,
     "metadata": {},
     "output_type": "execute_result"
    }
   ],
   "source": [
    "data_set[-5:]"
   ]
  },
  {
   "cell_type": "code",
   "execution_count": 97,
   "id": "429df2e4",
   "metadata": {},
   "outputs": [],
   "source": [
    "from sklearn.preprocessing import MinMaxScaler\n",
    "sc = MinMaxScaler(feature_range=(0,1))\n",
    "data_set_scaled = sc.fit_transform(data_set)"
   ]
  },
  {
   "cell_type": "code",
   "execution_count": 155,
   "id": "978ff5d2-56e3-42c9-aabe-7277016b4308",
   "metadata": {},
   "outputs": [
    {
     "data": {
      "text/plain": [
       "0.6095701108854188"
      ]
     },
     "execution_count": 155,
     "metadata": {},
     "output_type": "execute_result"
    }
   ],
   "source": [
    "data_set_scaled[0][-1]"
   ]
  },
  {
   "cell_type": "code",
   "execution_count": 183,
   "id": "4a38486f-6af5-47f5-9052-3d343e23ca3b",
   "metadata": {},
   "outputs": [],
   "source": [
    "z = np.zeros((5,11))"
   ]
  },
  {
   "cell_type": "code",
   "execution_count": 184,
   "id": "87c2e9b0-7afa-4637-b526-6158d0700073",
   "metadata": {},
   "outputs": [
    {
     "data": {
      "text/plain": [
       "array([[0., 0., 0., 0., 0., 0., 0., 0., 0., 0., 0.],\n",
       "       [0., 0., 0., 0., 0., 0., 0., 0., 0., 0., 0.],\n",
       "       [0., 0., 0., 0., 0., 0., 0., 0., 0., 0., 0.],\n",
       "       [0., 0., 0., 0., 0., 0., 0., 0., 0., 0., 0.],\n",
       "       [0., 0., 0., 0., 0., 0., 0., 0., 0., 0., 0.]])"
      ]
     },
     "execution_count": 184,
     "metadata": {},
     "output_type": "execute_result"
    }
   ],
   "source": [
    "z"
   ]
  },
  {
   "cell_type": "code",
   "execution_count": 189,
   "id": "8348e0ad-b8da-4086-8fbe-d1adb365b580",
   "metadata": {},
   "outputs": [],
   "source": [
    "values_to_insert = data_set_scaled[-5:][:,3]"
   ]
  },
  {
   "cell_type": "code",
   "execution_count": 197,
   "id": "1dd02290-fbec-4573-826c-af7330a83f5f",
   "metadata": {},
   "outputs": [
    {
     "data": {
      "text/plain": [
       "array([0.86430688, 0.88029037, 0.8946755 , 0.88751623, 0.88608438])"
      ]
     },
     "execution_count": 197,
     "metadata": {},
     "output_type": "execute_result"
    }
   ],
   "source": [
    "values_to_insert"
   ]
  },
  {
   "cell_type": "code",
   "execution_count": 191,
   "id": "6d3ca879-1b0a-416c-b8d5-e3b97183f367",
   "metadata": {},
   "outputs": [],
   "source": [
    "z[:, 3] = values_to_insert"
   ]
  },
  {
   "cell_type": "code",
   "execution_count": 192,
   "id": "62188d4e-bfba-4bfd-932c-a86db41d8369",
   "metadata": {},
   "outputs": [
    {
     "data": {
      "text/plain": [
       "array([[0.        , 0.        , 0.        , 0.86430688, 0.        ,\n",
       "        0.        , 0.        , 0.        , 0.        , 0.        ,\n",
       "        0.        ],\n",
       "       [0.        , 0.        , 0.        , 0.88029037, 0.        ,\n",
       "        0.        , 0.        , 0.        , 0.        , 0.        ,\n",
       "        0.        ],\n",
       "       [0.        , 0.        , 0.        , 0.8946755 , 0.        ,\n",
       "        0.        , 0.        , 0.        , 0.        , 0.        ,\n",
       "        0.        ],\n",
       "       [0.        , 0.        , 0.        , 0.88751623, 0.        ,\n",
       "        0.        , 0.        , 0.        , 0.        , 0.        ,\n",
       "        0.        ],\n",
       "       [0.        , 0.        , 0.        , 0.88608438, 0.        ,\n",
       "        0.        , 0.        , 0.        , 0.        , 0.        ,\n",
       "        0.        ]])"
      ]
     },
     "execution_count": 192,
     "metadata": {},
     "output_type": "execute_result"
    }
   ],
   "source": [
    "z"
   ]
  },
  {
   "cell_type": "code",
   "execution_count": 180,
   "id": "afe5f2e8-8338-496c-b309-173cfaaef334",
   "metadata": {},
   "outputs": [
    {
     "data": {
      "text/plain": [
       "array([0.        , 0.        , 0.        , 0.        , 0.        ,\n",
       "       0.        , 0.        , 0.        , 0.        , 0.        ,\n",
       "       0.60957011])"
      ]
     },
     "execution_count": 180,
     "metadata": {},
     "output_type": "execute_result"
    }
   ],
   "source": [
    "np.append(np.zeros((1,10)), data_set_scaled[0][-1])"
   ]
  },
  {
   "cell_type": "code",
   "execution_count": 196,
   "id": "fbf0ae42-1b06-4e40-9f8b-66bbf78d3dfd",
   "metadata": {},
   "outputs": [
    {
     "data": {
      "text/plain": [
       "array([1891.63, 1896.43, 1900.75, 1898.6 , 1898.17])"
      ]
     },
     "execution_count": 196,
     "metadata": {},
     "output_type": "execute_result"
    }
   ],
   "source": [
    "sc.inverse_transform(z)[:,3]"
   ]
  },
  {
   "cell_type": "code",
   "execution_count": 157,
   "id": "178ac4a7-454d-4c85-9e99-72e557dd34c6",
   "metadata": {
    "scrolled": true
   },
   "outputs": [
    {
     "ename": "AttributeError",
     "evalue": "'numpy.ndarray' object has no attribute 'append'",
     "output_type": "error",
     "traceback": [
      "\u001b[0;31m---------------------------------------------------------------------------\u001b[0m",
      "\u001b[0;31mAttributeError\u001b[0m                            Traceback (most recent call last)",
      "Cell \u001b[0;32mIn[157], line 1\u001b[0m\n\u001b[0;32m----> 1\u001b[0m \u001b[43mnp\u001b[49m\u001b[38;5;241;43m.\u001b[39;49m\u001b[43mzeros\u001b[49m\u001b[43m(\u001b[49m\u001b[43m(\u001b[49m\u001b[38;5;241;43m1\u001b[39;49m\u001b[43m,\u001b[49m\u001b[38;5;241;43m10\u001b[39;49m\u001b[43m)\u001b[49m\u001b[43m)\u001b[49m\u001b[38;5;241;43m.\u001b[39;49m\u001b[43mappend\u001b[49m(data_set_scaled[\u001b[38;5;241m0\u001b[39m][\u001b[38;5;241m-\u001b[39m\u001b[38;5;241m1\u001b[39m])\n",
      "\u001b[0;31mAttributeError\u001b[0m: 'numpy.ndarray' object has no attribute 'append'"
     ]
    }
   ],
   "source": [
    "np.zeros((1,10)) + data_set_scaled[0][-1]"
   ]
  },
  {
   "cell_type": "code",
   "execution_count": 153,
   "id": "60f4f868-cad7-4467-ae71-1897904cb093",
   "metadata": {},
   "outputs": [
    {
     "data": {
      "text/plain": [
       "array([[1.81480000e+03, 1.81490000e+03, 1.81479000e+03, 1.81489000e+03,\n",
       "        5.93189254e+01, 1.81401324e+03, 1.81236244e+03, 1.81377280e+03,\n",
       "        2.30000000e-01, 1.00000000e+00, 1.81513000e+03]])"
      ]
     },
     "execution_count": 153,
     "metadata": {},
     "output_type": "execute_result"
    }
   ],
   "source": [
    "sc.inverse_transform(data_set_scaled[0].reshape(1, -1))"
   ]
  },
  {
   "cell_type": "code",
   "execution_count": 150,
   "id": "5486ae9d-acaf-460b-99b9-1dac9412aeba",
   "metadata": {},
   "outputs": [
    {
     "ename": "ValueError",
     "evalue": "non-broadcastable output operand with shape (1,1) doesn't match the broadcast shape (1,11)",
     "output_type": "error",
     "traceback": [
      "\u001b[0;31m---------------------------------------------------------------------------\u001b[0m",
      "\u001b[0;31mValueError\u001b[0m                                Traceback (most recent call last)",
      "Cell \u001b[0;32mIn[150], line 1\u001b[0m\n\u001b[0;32m----> 1\u001b[0m \u001b[43msc\u001b[49m\u001b[38;5;241;43m.\u001b[39;49m\u001b[43minverse_transform\u001b[49m\u001b[43m(\u001b[49m\u001b[43mdata_set_scaled\u001b[49m\u001b[43m[\u001b[49m\u001b[38;5;241;43m0\u001b[39;49m\u001b[43m:\u001b[49m\u001b[38;5;241;43m5\u001b[39;49m\u001b[43m]\u001b[49m\u001b[43m[\u001b[49m\u001b[38;5;241;43m-\u001b[39;49m\u001b[38;5;241;43m1\u001b[39;49m\u001b[43m]\u001b[49m\u001b[43m[\u001b[49m\u001b[38;5;241;43m0\u001b[39;49m\u001b[43m]\u001b[49m\u001b[38;5;241;43m.\u001b[39;49m\u001b[43mreshape\u001b[49m\u001b[43m(\u001b[49m\u001b[38;5;241;43m1\u001b[39;49m\u001b[43m,\u001b[49m\u001b[38;5;241;43m-\u001b[39;49m\u001b[38;5;241;43m10\u001b[39;49m\u001b[43m)\u001b[49m\u001b[43m)\u001b[49m[\u001b[38;5;241m0\u001b[39m]\n",
      "File \u001b[0;32m~/Desktop/Nouman Akram/Jupter Lab/venv/lib/python3.10/site-packages/sklearn/preprocessing/_data.py:547\u001b[0m, in \u001b[0;36mMinMaxScaler.inverse_transform\u001b[0;34m(self, X)\u001b[0m\n\u001b[1;32m    541\u001b[0m check_is_fitted(\u001b[38;5;28mself\u001b[39m)\n\u001b[1;32m    543\u001b[0m X \u001b[38;5;241m=\u001b[39m check_array(\n\u001b[1;32m    544\u001b[0m     X, copy\u001b[38;5;241m=\u001b[39m\u001b[38;5;28mself\u001b[39m\u001b[38;5;241m.\u001b[39mcopy, dtype\u001b[38;5;241m=\u001b[39mFLOAT_DTYPES, force_all_finite\u001b[38;5;241m=\u001b[39m\u001b[38;5;124m\"\u001b[39m\u001b[38;5;124mallow-nan\u001b[39m\u001b[38;5;124m\"\u001b[39m\n\u001b[1;32m    545\u001b[0m )\n\u001b[0;32m--> 547\u001b[0m X \u001b[38;5;241m-\u001b[39m\u001b[38;5;241m=\u001b[39m \u001b[38;5;28mself\u001b[39m\u001b[38;5;241m.\u001b[39mmin_\n\u001b[1;32m    548\u001b[0m X \u001b[38;5;241m/\u001b[39m\u001b[38;5;241m=\u001b[39m \u001b[38;5;28mself\u001b[39m\u001b[38;5;241m.\u001b[39mscale_\n\u001b[1;32m    549\u001b[0m \u001b[38;5;28;01mreturn\u001b[39;00m X\n",
      "\u001b[0;31mValueError\u001b[0m: non-broadcastable output operand with shape (1,1) doesn't match the broadcast shape (1,11)"
     ]
    }
   ],
   "source": [
    "sc.inverse_transform(data_set_scaled[0:5][-1][0].reshape(1,-10))[0]"
   ]
  },
  {
   "cell_type": "code",
   "execution_count": 54,
   "id": "7e744c8d",
   "metadata": {},
   "outputs": [
    {
     "name": "stdout",
     "output_type": "stream",
     "text": [
      "9650\n",
      "(9620, 30, 8)\n",
      "(9620, 1)\n"
     ]
    }
   ],
   "source": [
    "X = []\n",
    "\n",
    "backcandles = 30\n",
    "print(data_set_scaled.shape[0])\n",
    "\n",
    "for j in range(8):\n",
    "    X.append([])\n",
    "    for i in range(backcandles, data_set_scaled.shape[0]):\n",
    "        X[j].append(data_set_scaled[i-backcandles:i, j])\n",
    "X = np.moveaxis(X, [0],[2])\n",
    "\n",
    "X, yi = np.array(X), np.array(data_set_scaled[backcandles:,-1])\n",
    "y = np.reshape(yi, (len(yi),1))\n",
    "\n",
    "print(X.shape)\n",
    "print(y.shape)"
   ]
  },
  {
   "cell_type": "code",
   "execution_count": 87,
   "id": "3dce977c-6d52-4392-af3e-f44d9a1337b8",
   "metadata": {},
   "outputs": [
    {
     "data": {
      "text/plain": [
       "array([0.60848428, 0.59873389, 0.62555809, 0.60877094, 0.59223167,\n",
       "       0.62085012, 0.6280895 , 0.63638663])"
      ]
     },
     "execution_count": 87,
     "metadata": {},
     "output_type": "execute_result"
    }
   ],
   "source": [
    "X[0][0]"
   ]
  },
  {
   "cell_type": "code",
   "execution_count": 55,
   "id": "9b4235e5",
   "metadata": {},
   "outputs": [
    {
     "name": "stdout",
     "output_type": "stream",
     "text": [
      "7696\n",
      "(7696, 30, 8)\n",
      "(1924, 30, 8)\n",
      "(7696, 1)\n",
      "(1924, 1)\n",
      "[[0.61536412]\n",
      " [0.61336619]\n",
      " [0.61646299]\n",
      " ...\n",
      " [0.92174753]\n",
      " [0.92231361]\n",
      " [0.92521062]]\n"
     ]
    }
   ],
   "source": [
    "split_limit = int(len(X)*0.8)\n",
    "print(split_limit)\n",
    "\n",
    "X_train, X_test = X[:split_limit], X[split_limit:]\n",
    "y_train, y_test = y[:split_limit], y[split_limit:]\n",
    "\n",
    "print(X_train.shape)\n",
    "print(X_test.shape)\n",
    "print(y_train.shape)\n",
    "print(y_test.shape)\n",
    "print(y_train)"
   ]
  },
  {
   "cell_type": "code",
   "execution_count": 56,
   "id": "a46ed114",
   "metadata": {},
   "outputs": [
    {
     "name": "stdout",
     "output_type": "stream",
     "text": [
      "Epoch 1/100\n",
      "514/514 [==============================] - 9s 14ms/step - loss: 0.0015\n",
      "Epoch 2/100\n",
      "514/514 [==============================] - 9s 18ms/step - loss: 1.4067e-04\n",
      "Epoch 3/100\n",
      "514/514 [==============================] - 8s 16ms/step - loss: 1.3385e-04\n",
      "Epoch 4/100\n",
      "514/514 [==============================] - 8s 16ms/step - loss: 1.1990e-04\n",
      "Epoch 5/100\n",
      "514/514 [==============================] - 9s 17ms/step - loss: 1.1710e-04\n",
      "Epoch 6/100\n",
      "514/514 [==============================] - 8s 16ms/step - loss: 1.1479e-04\n",
      "Epoch 7/100\n",
      "514/514 [==============================] - 8s 16ms/step - loss: 1.2031e-04\n",
      "Epoch 8/100\n",
      "514/514 [==============================] - 8s 16ms/step - loss: 1.1922e-04\n",
      "Epoch 9/100\n",
      "514/514 [==============================] - 8s 16ms/step - loss: 1.0870e-04\n",
      "Epoch 10/100\n",
      "514/514 [==============================] - 8s 16ms/step - loss: 1.1321e-04\n",
      "Epoch 11/100\n",
      "514/514 [==============================] - 8s 15ms/step - loss: 1.0265e-04\n",
      "Epoch 12/100\n",
      "514/514 [==============================] - 8s 15ms/step - loss: 1.0278e-04\n",
      "Epoch 13/100\n",
      "514/514 [==============================] - 8s 16ms/step - loss: 1.0995e-04\n",
      "Epoch 14/100\n",
      "514/514 [==============================] - 10s 19ms/step - loss: 9.3885e-05\n",
      "Epoch 15/100\n",
      "514/514 [==============================] - 9s 17ms/step - loss: 1.0198e-04\n",
      "Epoch 16/100\n",
      "514/514 [==============================] - 8s 16ms/step - loss: 1.0047e-04\n",
      "Epoch 17/100\n",
      "514/514 [==============================] - 8s 15ms/step - loss: 9.4502e-05\n",
      "Epoch 18/100\n",
      "514/514 [==============================] - 8s 16ms/step - loss: 9.0905e-05\n",
      "Epoch 19/100\n",
      "514/514 [==============================] - 8s 15ms/step - loss: 9.2491e-05\n",
      "Epoch 20/100\n",
      "514/514 [==============================] - 8s 16ms/step - loss: 9.0972e-05\n",
      "Epoch 21/100\n",
      "514/514 [==============================] - 9s 17ms/step - loss: 9.9954e-05\n",
      "Epoch 22/100\n",
      "514/514 [==============================] - 9s 17ms/step - loss: 9.4483e-05\n",
      "Epoch 23/100\n",
      "514/514 [==============================] - 9s 18ms/step - loss: 8.4948e-05\n",
      "Epoch 24/100\n",
      "514/514 [==============================] - 9s 17ms/step - loss: 8.6292e-05\n",
      "Epoch 25/100\n",
      "514/514 [==============================] - 8s 16ms/step - loss: 8.9991e-05\n",
      "Epoch 26/100\n",
      "514/514 [==============================] - 8s 16ms/step - loss: 9.1835e-05\n",
      "Epoch 27/100\n",
      "514/514 [==============================] - 9s 18ms/step - loss: 9.1675e-05\n",
      "Epoch 28/100\n",
      "514/514 [==============================] - 9s 17ms/step - loss: 9.0191e-05\n",
      "Epoch 29/100\n",
      "514/514 [==============================] - 9s 17ms/step - loss: 8.5209e-05\n",
      "Epoch 30/100\n",
      "514/514 [==============================] - 8s 17ms/step - loss: 8.6653e-05\n",
      "Epoch 31/100\n",
      "514/514 [==============================] - 8s 16ms/step - loss: 8.6289e-05\n",
      "Epoch 32/100\n",
      "514/514 [==============================] - 8s 16ms/step - loss: 8.7671e-05\n",
      "Epoch 33/100\n",
      "514/514 [==============================] - 8s 16ms/step - loss: 8.6653e-05\n",
      "Epoch 34/100\n",
      "514/514 [==============================] - 8s 16ms/step - loss: 8.7732e-05\n",
      "Epoch 35/100\n",
      "514/514 [==============================] - 8s 16ms/step - loss: 8.3836e-05\n",
      "Epoch 36/100\n",
      "514/514 [==============================] - 9s 18ms/step - loss: 8.8794e-05\n",
      "Epoch 37/100\n",
      "514/514 [==============================] - 9s 18ms/step - loss: 8.4042e-05\n",
      "Epoch 38/100\n",
      "514/514 [==============================] - 8s 16ms/step - loss: 8.1409e-05\n",
      "Epoch 39/100\n",
      "514/514 [==============================] - 8s 16ms/step - loss: 8.4661e-05\n",
      "Epoch 40/100\n",
      "514/514 [==============================] - 9s 17ms/step - loss: 8.3407e-05\n",
      "Epoch 41/100\n",
      "514/514 [==============================] - 9s 17ms/step - loss: 8.6738e-05\n",
      "Epoch 42/100\n",
      "514/514 [==============================] - 9s 18ms/step - loss: 8.3600e-05\n",
      "Epoch 43/100\n",
      "514/514 [==============================] - 10s 19ms/step - loss: 8.7853e-05\n",
      "Epoch 44/100\n",
      "514/514 [==============================] - 9s 18ms/step - loss: 8.0701e-05\n",
      "Epoch 45/100\n",
      "514/514 [==============================] - 8s 16ms/step - loss: 8.5659e-05\n",
      "Epoch 46/100\n",
      "514/514 [==============================] - 8s 16ms/step - loss: 8.1929e-05\n",
      "Epoch 47/100\n",
      "514/514 [==============================] - 8s 16ms/step - loss: 8.1780e-05\n",
      "Epoch 48/100\n",
      "514/514 [==============================] - 9s 17ms/step - loss: 8.6501e-05\n",
      "Epoch 49/100\n",
      "514/514 [==============================] - 8s 16ms/step - loss: 8.3633e-05\n",
      "Epoch 50/100\n",
      "514/514 [==============================] - 9s 17ms/step - loss: 8.0616e-05\n",
      "Epoch 51/100\n",
      "514/514 [==============================] - 9s 17ms/step - loss: 8.5619e-05\n",
      "Epoch 52/100\n",
      "514/514 [==============================] - 8s 15ms/step - loss: 8.2194e-05\n",
      "Epoch 53/100\n",
      "514/514 [==============================] - 8s 16ms/step - loss: 8.1436e-05\n",
      "Epoch 54/100\n",
      "514/514 [==============================] - 9s 17ms/step - loss: 8.1897e-05\n",
      "Epoch 55/100\n",
      "514/514 [==============================] - 9s 18ms/step - loss: 8.2397e-05\n",
      "Epoch 56/100\n",
      "514/514 [==============================] - 9s 17ms/step - loss: 8.2293e-05\n",
      "Epoch 57/100\n",
      "514/514 [==============================] - 9s 18ms/step - loss: 8.2854e-05\n",
      "Epoch 58/100\n",
      "514/514 [==============================] - 9s 17ms/step - loss: 8.5057e-05\n",
      "Epoch 59/100\n",
      "514/514 [==============================] - 8s 16ms/step - loss: 8.4060e-05\n",
      "Epoch 60/100\n",
      "514/514 [==============================] - 9s 17ms/step - loss: 7.9586e-05\n",
      "Epoch 61/100\n",
      "514/514 [==============================] - 9s 17ms/step - loss: 8.3212e-05\n",
      "Epoch 62/100\n",
      "514/514 [==============================] - 9s 18ms/step - loss: 8.3029e-05\n",
      "Epoch 63/100\n",
      "514/514 [==============================] - 9s 18ms/step - loss: 8.2997e-05\n",
      "Epoch 64/100\n",
      "514/514 [==============================] - 11s 21ms/step - loss: 8.0666e-05\n",
      "Epoch 65/100\n",
      "514/514 [==============================] - 8s 17ms/step - loss: 8.2448e-05\n",
      "Epoch 66/100\n",
      "514/514 [==============================] - 8s 16ms/step - loss: 8.2782e-05\n",
      "Epoch 67/100\n",
      "514/514 [==============================] - 8s 16ms/step - loss: 8.0923e-05\n",
      "Epoch 68/100\n",
      "514/514 [==============================] - 8s 16ms/step - loss: 8.3086e-05\n",
      "Epoch 69/100\n",
      "514/514 [==============================] - 9s 17ms/step - loss: 8.3575e-05\n",
      "Epoch 70/100\n",
      "514/514 [==============================] - 9s 17ms/step - loss: 8.0915e-05\n",
      "Epoch 71/100\n",
      "514/514 [==============================] - 9s 17ms/step - loss: 8.0719e-05\n",
      "Epoch 72/100\n",
      "514/514 [==============================] - 9s 17ms/step - loss: 8.0841e-05\n",
      "Epoch 73/100\n",
      "514/514 [==============================] - 9s 18ms/step - loss: 7.6655e-05\n",
      "Epoch 74/100\n",
      "514/514 [==============================] - 9s 18ms/step - loss: 8.3648e-05\n",
      "Epoch 75/100\n",
      "514/514 [==============================] - 8s 16ms/step - loss: 8.3378e-05\n",
      "Epoch 76/100\n",
      "514/514 [==============================] - 9s 18ms/step - loss: 8.2510e-05\n",
      "Epoch 77/100\n",
      "514/514 [==============================] - 9s 17ms/step - loss: 8.0003e-05\n",
      "Epoch 78/100\n",
      "514/514 [==============================] - 9s 17ms/step - loss: 7.9181e-05\n",
      "Epoch 79/100\n",
      "514/514 [==============================] - 8s 16ms/step - loss: 7.8509e-05\n",
      "Epoch 80/100\n",
      "514/514 [==============================] - 8s 16ms/step - loss: 7.7494e-05\n",
      "Epoch 81/100\n",
      "514/514 [==============================] - 8s 16ms/step - loss: 7.7144e-05\n",
      "Epoch 82/100\n",
      "514/514 [==============================] - 8s 16ms/step - loss: 7.8026e-05\n",
      "Epoch 83/100\n",
      "514/514 [==============================] - 9s 17ms/step - loss: 7.7753e-05\n",
      "Epoch 84/100\n",
      "514/514 [==============================] - 9s 17ms/step - loss: 7.8769e-05\n",
      "Epoch 85/100\n",
      "514/514 [==============================] - 8s 16ms/step - loss: 8.7591e-05\n",
      "Epoch 86/100\n",
      "514/514 [==============================] - 8s 16ms/step - loss: 7.6287e-05\n",
      "Epoch 87/100\n",
      "514/514 [==============================] - 8s 16ms/step - loss: 7.6019e-05\n",
      "Epoch 88/100\n",
      "514/514 [==============================] - 8s 16ms/step - loss: 7.7748e-05\n",
      "Epoch 89/100\n",
      "514/514 [==============================] - 8s 16ms/step - loss: 8.0862e-05\n",
      "Epoch 90/100\n",
      "514/514 [==============================] - 8s 16ms/step - loss: 7.8689e-05\n",
      "Epoch 91/100\n",
      "514/514 [==============================] - 8s 16ms/step - loss: 7.7955e-05\n",
      "Epoch 92/100\n",
      "514/514 [==============================] - 8s 16ms/step - loss: 8.0283e-05\n",
      "Epoch 93/100\n",
      "514/514 [==============================] - 8s 16ms/step - loss: 7.9236e-05\n",
      "Epoch 94/100\n",
      "514/514 [==============================] - 8s 16ms/step - loss: 7.9039e-05\n",
      "Epoch 95/100\n",
      "514/514 [==============================] - 8s 16ms/step - loss: 7.9528e-05\n",
      "Epoch 96/100\n",
      "514/514 [==============================] - 8s 16ms/step - loss: 7.8048e-05\n",
      "Epoch 97/100\n",
      "514/514 [==============================] - 8s 16ms/step - loss: 7.7151e-05\n",
      "Epoch 98/100\n",
      "514/514 [==============================] - 8s 16ms/step - loss: 7.7219e-05\n",
      "Epoch 99/100\n",
      "514/514 [==============================] - 8s 16ms/step - loss: 7.7838e-05\n",
      "Epoch 100/100\n",
      "514/514 [==============================] - 8s 16ms/step - loss: 7.6815e-05\n"
     ]
    },
    {
     "data": {
      "text/plain": [
       "<keras.src.callbacks.History at 0x7f19ee7d4c70>"
      ]
     },
     "execution_count": 56,
     "metadata": {},
     "output_type": "execute_result"
    }
   ],
   "source": [
    "import keras\n",
    "import tensorflow as tf\n",
    "\n",
    "from keras.models import Sequential, Model\n",
    "from keras.layers import LSTM, Dropout, Dense, Input, Activation, concatenate\n",
    "from keras.layers import Dropout\n",
    "from keras.layers import Dense\n",
    "from keras.layers import TimeDistributed\n",
    "from keras.callbacks import History\n",
    "from keras import optimizers\n",
    "\n",
    "lstm_input = Input(shape=(backcandles, 8), name='lstm_input')\n",
    "inputs = LSTM(150, name='first_layer')(lstm_input)\n",
    "inputs = Dense(1, name='dense_layer')(inputs)\n",
    "output = Activation('linear', name='output')(inputs)\n",
    "model = Model(inputs=lstm_input, outputs=output)\n",
    "adam = optimizers.Adam()\n",
    "model.compile(optimizer=adam, loss='mse')\n",
    "model.fit(x=X_train, y=y_train, batch_size=15, epochs=100 , shuffle=True)"
   ]
  },
  {
   "cell_type": "code",
   "execution_count": 110,
   "id": "9570e587",
   "metadata": {},
   "outputs": [
    {
     "name": "stdout",
     "output_type": "stream",
     "text": [
      "61/61 [==============================] - 0s 8ms/step\n",
      "[0.9154271] [0.92674237]\n",
      "[0.91920835] [0.92680896]\n",
      "[0.920829] [0.92747494]\n",
      "[0.9209405] [0.92314608]\n",
      "[0.9215512] [0.92088176]\n",
      "[0.9176816] [0.92444474]\n",
      "[0.91521925] [0.92690886]\n",
      "[0.9170751] [0.91911691]\n",
      "[0.9192648] [0.92048217]\n",
      "[0.9129957] [0.91855083]\n"
     ]
    }
   ],
   "source": [
    "y_pred = model.predict(X_test)\n",
    "\n",
    "for i in range(10):\n",
    "    print(y_pred[i], y_test[i])"
   ]
  },
  {
   "cell_type": "code",
   "execution_count": 127,
   "id": "33ae220a-275b-4371-b7e9-3b84ecb70a71",
   "metadata": {},
   "outputs": [
    {
     "data": {
      "text/plain": [
       "array([[0.00304817, 0.00301832, 0.00302751, ..., 0.01420588, 0.91542709,\n",
       "        0.00304827],\n",
       "       [0.00306076, 0.00303079, 0.00304001, ..., 0.01426456, 0.91920835,\n",
       "        0.00306086],\n",
       "       [0.00306616, 0.00303613, 0.00304537, ..., 0.01428971, 0.920829  ,\n",
       "        0.00306626],\n",
       "       ...,\n",
       "       [0.00291628, 0.00288773, 0.00289651, ..., 0.01359122, 0.87581813,\n",
       "        0.00291638],\n",
       "       [0.00296232, 0.00293331, 0.00294224, ..., 0.01380579, 0.88964492,\n",
       "        0.00296242],\n",
       "       [0.00294079, 0.00291199, 0.00292085, ..., 0.01370543, 0.88317764,\n",
       "        0.00294089]])"
      ]
     },
     "execution_count": 127,
     "metadata": {},
     "output_type": "execute_result"
    }
   ],
   "source": []
  },
  {
   "cell_type": "code",
   "execution_count": 117,
   "id": "b4cfd9f2-7233-40b8-b84e-09993f93cac3",
   "metadata": {},
   "outputs": [
    {
     "data": {
      "text/plain": [
       "array([-5.4344033 , -5.38530779, -5.37632702, -5.43461756, -0.12378371,\n",
       "       -5.66070251, -5.92895657, -6.04001591,  0.51365611,  0.        ,\n",
       "       -5.43461756])"
      ]
     },
     "execution_count": 117,
     "metadata": {},
     "output_type": "execute_result"
    }
   ],
   "source": [
    "sc.min_"
   ]
  },
  {
   "cell_type": "code",
   "execution_count": 118,
   "id": "d90de7be-258a-403e-a46b-4e3e4e079d26",
   "metadata": {},
   "outputs": [
    {
     "ename": "ValueError",
     "evalue": "non-broadcastable output operand with shape (1924,1) doesn't match the broadcast shape (1924,11)",
     "output_type": "error",
     "traceback": [
      "\u001b[0;31m---------------------------------------------------------------------------\u001b[0m",
      "\u001b[0;31mValueError\u001b[0m                                Traceback (most recent call last)",
      "Cell \u001b[0;32mIn[118], line 1\u001b[0m\n\u001b[0;32m----> 1\u001b[0m \u001b[43msc\u001b[49m\u001b[38;5;241;43m.\u001b[39;49m\u001b[43minverse_transform\u001b[49m\u001b[43m(\u001b[49m\u001b[43my_pred\u001b[49m\u001b[43m)\u001b[49m\n",
      "File \u001b[0;32m~/Desktop/Nouman Akram/Jupter Lab/venv/lib/python3.10/site-packages/sklearn/preprocessing/_data.py:547\u001b[0m, in \u001b[0;36mMinMaxScaler.inverse_transform\u001b[0;34m(self, X)\u001b[0m\n\u001b[1;32m    541\u001b[0m check_is_fitted(\u001b[38;5;28mself\u001b[39m)\n\u001b[1;32m    543\u001b[0m X \u001b[38;5;241m=\u001b[39m check_array(\n\u001b[1;32m    544\u001b[0m     X, copy\u001b[38;5;241m=\u001b[39m\u001b[38;5;28mself\u001b[39m\u001b[38;5;241m.\u001b[39mcopy, dtype\u001b[38;5;241m=\u001b[39mFLOAT_DTYPES, force_all_finite\u001b[38;5;241m=\u001b[39m\u001b[38;5;124m\"\u001b[39m\u001b[38;5;124mallow-nan\u001b[39m\u001b[38;5;124m\"\u001b[39m\n\u001b[1;32m    545\u001b[0m )\n\u001b[0;32m--> 547\u001b[0m X \u001b[38;5;241m-\u001b[39m\u001b[38;5;241m=\u001b[39m \u001b[38;5;28mself\u001b[39m\u001b[38;5;241m.\u001b[39mmin_\n\u001b[1;32m    548\u001b[0m X \u001b[38;5;241m/\u001b[39m\u001b[38;5;241m=\u001b[39m \u001b[38;5;28mself\u001b[39m\u001b[38;5;241m.\u001b[39mscale_\n\u001b[1;32m    549\u001b[0m \u001b[38;5;28;01mreturn\u001b[39;00m X\n",
      "\u001b[0;31mValueError\u001b[0m: non-broadcastable output operand with shape (1924,1) doesn't match the broadcast shape (1924,11)"
     ]
    }
   ],
   "source": [
    "sc.inverse_transform(y_pred)"
   ]
  },
  {
   "cell_type": "code",
   "execution_count": null,
   "id": "f4ee3409-63ac-4cb5-93be-f22ec9969aba",
   "metadata": {},
   "outputs": [],
   "source": []
  },
  {
   "cell_type": "code",
   "execution_count": 58,
   "id": "ae0852f7-566f-490c-9da6-4fc46a364ea6",
   "metadata": {},
   "outputs": [],
   "source": [
    "import numpy as np\n",
    "import matplotlib.pyplot as plt\n",
    "from sklearn.metrics import mean_squared_error, roc_curve, auc, confusion_matrix, r2_score\n",
    "import seaborn as sns"
   ]
  },
  {
   "cell_type": "code",
   "execution_count": 59,
   "id": "21328cc3-b391-4842-a408-0015ca5c3594",
   "metadata": {},
   "outputs": [
    {
     "name": "stdout",
     "output_type": "stream",
     "text": [
      "Mean Squared Error (MSE): 0.00011136613716593755\n",
      "R-squared (Coefficient of Determination): 0.9417472776735486\n"
     ]
    }
   ],
   "source": [
    "mse = mean_squared_error(y_test, y_pred)\n",
    "print(f'Mean Squared Error (MSE): {mse}')\n",
    "\n",
    "# Plot ROC curve\n",
    "r_squared = r2_score(y_test, y_pred)\n",
    "print(f'R-squared (Coefficient of Determination): {r_squared}')\n"
   ]
  },
  {
   "cell_type": "code",
   "execution_count": 60,
   "id": "401a05ff",
   "metadata": {},
   "outputs": [
    {
     "data": {
      "image/png": "[encoded data removed]",
      "text/plain": [
       "<Figure size 1600x800 with 1 Axes>"
      ]
     },
     "metadata": {},
     "output_type": "display_data"
    }
   ],
   "source": [
    "plt.figure(figsize=(16,8))\n",
    "plt.plot(y_test, color = 'black', label = 'Test')\n",
    "plt.plot(y_pred, color = 'green', label = 'Predicted')\n",
    "plt.legend()\n",
    "plt.show()"
   ]
  },
  {
   "cell_type": "code",
   "execution_count": 61,
   "id": "d955f31c-8937-4187-b850-76e739a4b3b0",
   "metadata": {},
   "outputs": [
    {
     "name": "stderr",
     "output_type": "stream",
     "text": [
      "/home/nouman/Desktop/Nouman Akram/Jupter Lab/venv/lib/python3.10/site-packages/keras/src/engine/training.py:3000: UserWarning: You are saving your model as an HDF5 file via `model.save()`. This file format is considered legacy. We recommend using instead the native Keras format, e.g. `model.save('my_model.keras')`.\n",
      "  saving_api.save_model(\n"
     ]
    }
   ],
   "source": [
    "model.save('trained_model.h5')"
   ]
  },
  {
   "cell_type": "code",
   "execution_count": null,
   "id": "cb83582c-aad4-444f-8f79-79c29cfc45a6",
   "metadata": {},
   "outputs": [],
   "source": []
  }
 ],
 "metadata": {
  "kernelspec": {
   "display_name": "Python 3 (ipykernel)",
   "language": "python",
   "name": "python3"
  },
  "language_info": {
   "codemirror_mode": {
    "name": "ipython",
    "version": 3
   },
   "file_extension": ".py",
   "mimetype": "text/x-python",
   "name": "python",
   "nbconvert_exporter": "python",
   "pygments_lexer": "ipython3",
   "version": "3.10.8"
  }
 },
 "nbformat": 4,
 "nbformat_minor": 5
}
